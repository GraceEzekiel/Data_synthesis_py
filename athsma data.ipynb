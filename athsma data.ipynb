{
 "cells": [
  {
   "cell_type": "code",
   "execution_count": 30,
   "id": "c5c66deb-9c5b-4b26-af3c-a32f8abd441e",
   "metadata": {
    "scrolled": true
   },
   "outputs": [
    {
     "name": "stdout",
     "output_type": "stream",
     "text": [
      "Requirement already satisfied: openpyxl in c:\\users\\user\\appdata\\local\\programs\\python\\python312\\lib\\site-packages (3.1.5)\n",
      "Requirement already satisfied: et-xmlfile in c:\\users\\user\\appdata\\local\\programs\\python\\python312\\lib\\site-packages (from openpyxl) (1.1.0)\n"
     ]
    },
    {
     "name": "stderr",
     "output_type": "stream",
     "text": [
      "\n",
      "[notice] A new release of pip is available: 24.0 -> 24.1.1\n",
      "[notice] To update, run: python.exe -m pip install --upgrade pip\n"
     ]
    }
   ],
   "source": [
    "#import libraries\n",
    "import pandas as pd  #for data handeling\n",
    "import numpy as np  #random number generation\n",
    "import random  #for random choices\n",
    "from datetime import datetime, timedelta #date, time manipulation\n",
    "!pip install openpyxl\n"
   ]
  },
  {
   "cell_type": "code",
   "execution_count": 65,
   "id": "bd3408cc-2c3c-4e1c-8208-4d39d0c9338c",
   "metadata": {},
   "outputs": [],
   "source": [
    "from faker import Faker"
   ]
  },
  {
   "cell_type": "code",
   "execution_count": 66,
   "id": "66902c27-d6f4-4a8f-80bf-6823870e9dfc",
   "metadata": {},
   "outputs": [],
   "source": [
    "#creating an instance Faker package\n",
    "synthetic = Faker(locale='en_GB')"
   ]
  },
  {
   "cell_type": "code",
   "execution_count": 32,
   "id": "db600059-b6d9-4da1-8ff3-98463344d687",
   "metadata": {},
   "outputs": [],
   "source": [
    "#function to generate date randomly that falls between start and end range given\n",
    "def random_date(start, end):\n",
    "    return start + timedelta(days=random.randint(0, (end - start).days))"
   ]
  },
  {
   "cell_type": "code",
   "execution_count": 145,
   "id": "c27d2c45-834e-4c5a-8e17-76e4dbc504da",
   "metadata": {},
   "outputs": [
    {
     "name": "stdout",
     "output_type": "stream",
     "text": [
      "      PPID Sex  MoB   YoB        DoD  Ethnicity6\n",
      "0  ID_0000   M    9  1987 2012-08-08  not_stated\n",
      "1  ID_0001   F   12  1991        NaT       White\n",
      "2  ID_0002   M   12  1993        NaT       White\n",
      "3  ID_0003   M    3  2000        NaT      others\n",
      "4  ID_0004   F    2  1988        NaT      others\n"
     ]
    }
   ],
   "source": [
    "#Generate demographics data\n",
    "\n",
    "# Function to generate pseudoID in sorted order\n",
    "def generate_pseudoID(index):\n",
    "    return f'ID_{index:04}'  # ID_0000, ID_0001, ...\n",
    "\n",
    "# Number of records to generate\n",
    "num_records = 3000\n",
    "\n",
    "# Generate data\n",
    "data = {\n",
    "    'PPID': [generate_pseudoID(index) for index in range(num_records)],\n",
    "    'Sex': np.random.choice(['M', 'F'], num_records, p=[0.48, 0.52]), \n",
    "    'MoB': np.random.choice(range(1,13), num_records), #randomly selects 1-12 inclusive representing months of the year\n",
    "    'YoB': np.random.randint(1983,2002, num_records), #generates random years btween 1983-2022\n",
    "    'DoD': [random_date(datetime(2004,1,1), datetime(2023,5,21)) \n",
    "            if np.random.rand()<0.1 else None\n",
    "            for _ in range(num_records)], #randomly assign death date to 10% of data, NULL if no death date\n",
    "    'Ethnicity6': np.random.choice(['White','Asian','Black','others','not_stated'], num_records),\n",
    "}\n",
    "#create dataframe\n",
    "demog = pd.DataFrame(data)\n",
    "print(demog.head())"
   ]
  },
  {
   "cell_type": "code",
   "execution_count": 146,
   "id": "0abe127e-e7b5-4595-9ba0-659fa6602177",
   "metadata": {},
   "outputs": [],
   "source": [
    " #randomly choosing dod\n",
    "demog['DoD']= [np.random.choice(['-',synthetic.date_this_decade(before_today=True),],\n",
    "                                 p=[0.80,0.20]) for _ in range(num_records)]\n",
    "        "
   ]
  },
  {
   "cell_type": "code",
   "execution_count": 147,
   "id": "4ca66b01-8ffa-4be4-ac7b-3b32402f72be",
   "metadata": {},
   "outputs": [
    {
     "name": "stdout",
     "output_type": "stream",
     "text": [
      "Total records: 3000\n",
      "Number of records with a date of death: 574\n",
      "Percentage of records with a date of death: 19.13%\n",
      "      PPID Sex  MoB   YoB DoD  Ethnicity6\n",
      "0  ID_0000   M    9  1987   -  not_stated\n",
      "1  ID_0001   F   12  1991   -       White\n",
      "2  ID_0002   M   12  1993   -       White\n",
      "3  ID_0003   M    3  2000   -      others\n",
      "4  ID_0004   F    2  1988   -      others\n"
     ]
    }
   ],
   "source": [
    "# Count the number of records with a date of death\n",
    "dod_count = demog['DoD'].value_counts()\n",
    "# Calculate the proportion of records with a date of death\n",
    "percentage_with_dod = dod_count.loc[dod_count.index != '-'].sum() / num_records * 100\n",
    "\n",
    "# Print the results\n",
    "print(f\"Total records: {num_records}\")\n",
    "print(f\"Number of records with a date of death: {dod_count.loc[dod_count.index != '-'].sum()}\")\n",
    "print(f\"Percentage of records with a date of death: {percentage_with_dod:.2f}%\")\n",
    "\n",
    "print(demog.head())"
   ]
  },
  {
   "cell_type": "code",
   "execution_count": 148,
   "id": "0c59e071-968d-4876-a1d4-ff4804e69c61",
   "metadata": {},
   "outputs": [
    {
     "name": "stdout",
     "output_type": "stream",
     "text": [
      "      PPID Sex  MoB   YoB DoD  Ethnicity6 Reg_Start_Date\n",
      "0  ID_0000   M    9  1987   -  not_stated     1988-09-30\n",
      "1  ID_0001   F   12  1991   -       White     1994-11-26\n",
      "2  ID_0002   M   12  1993   -       White     1999-07-19\n",
      "3  ID_0003   M    3  2000   -      others     2002-12-05\n",
      "4  ID_0004   F    2  1988   -      others     1996-05-19\n"
     ]
    }
   ],
   "source": [
    "##generate GP registration date\n",
    "##minimum GP reg date is btween 1893/10/27 to 2023/05/18\n",
    "## however date of registration should be btween date of birth and 2023/05/18\n",
    "\n",
    "demog['Reg_Start_Date'] = [\n",
    "        random_date(datetime(demog['YoB'][i], 1, 1), datetime(2005, 1, 1))\n",
    "        for i in range(num_records)\n",
    "    ]\n",
    "print(demog.head())\n"
   ]
  },
  {
   "cell_type": "code",
   "execution_count": 149,
   "id": "306e01ba-4bda-4dfc-ae34-ba85a6119b73",
   "metadata": {},
   "outputs": [
    {
     "name": "stdout",
     "output_type": "stream",
     "text": [
      "      PPID Sex  MoB   YoB DoD  Ethnicity6 Reg_Start_Date Reg_End_Date\n",
      "0  ID_0000   M    9  1987   -  not_stated     1988-09-30            -\n",
      "1  ID_0001   F   12  1991   -       White     1994-11-26            -\n",
      "2  ID_0002   M   12  1993   -       White     1999-07-19            -\n",
      "3  ID_0003   M    3  2000   -      others     2002-12-05            -\n",
      "4  ID_0004   F    2  1988   -      others     1996-05-19            -\n"
     ]
    }
   ],
   "source": [
    "# Assign end dates to 30% of the records\n",
    "reg_end_dates = []\n",
    "for i in range(num_records):\n",
    "    if demog['DoD'][i]:\n",
    "        reg_end_dates.append(demog['DoD'][i]) #check if record has date of death and assign that as the end date\n",
    "    elif np.random.rand() < 0.30:\n",
    "        reg_end_dates.append(random_date(demog['Min_Reg_Start_Date'][i], datetime(2023, 5, 18)))\n",
    "    else:\n",
    "        reg_end_dates.append(None)\n",
    "\n",
    "demog['Reg_End_Date'] = reg_end_dates\n",
    "print(demog.head())"
   ]
  },
  {
   "cell_type": "code",
   "execution_count": 150,
   "id": "9f3070d0-2b55-43df-acf4-f948a0d6bc8b",
   "metadata": {},
   "outputs": [
    {
     "name": "stdout",
     "output_type": "stream",
     "text": [
      "Total records: 3000\n",
      "Number of records: 3000\n",
      "Percentage of records with a date of death: 100.00%\n",
      "      PPID Sex  MoB   YoB DoD  Ethnicity6 Reg_Start_Date Reg_End_Date\n",
      "0  ID_0000   M    9  1987   -  not_stated     1988-09-30            -\n",
      "1  ID_0001   F   12  1991   -       White     1994-11-26            -\n",
      "2  ID_0002   M   12  1993   -       White     1999-07-19            -\n",
      "3  ID_0003   M    3  2000   -      others     2002-12-05            -\n",
      "4  ID_0004   F    2  1988   -      others     1996-05-19            -\n"
     ]
    }
   ],
   "source": [
    "# Count the number of records with a date of death\n",
    "count = demog['Reg_Start_Date'].value_counts()\n",
    "# Calculate the proportion of records with a date of death\n",
    "percentage = count.loc[count.index != '-'].sum() / num_records * 100\n",
    "\n",
    "# Print the results\n",
    "print(f\"Total records: {num_records}\")\n",
    "print(f\"Number of records: {count.loc[count.index != '-'].sum()}\")\n",
    "print(f\"Percentage of records with a date of death: {percentage:.2f}%\")\n",
    "\n",
    "print(demog.head())"
   ]
  },
  {
   "cell_type": "code",
   "execution_count": 151,
   "id": "438f919a-1cf5-4d23-ab0c-53822a3802a0",
   "metadata": {},
   "outputs": [
    {
     "name": "stdout",
     "output_type": "stream",
     "text": [
      "      PPID Sex  MoB   YoB DoD  Ethnicity6 Reg_Start_Date Reg_End_Date  \\\n",
      "0  ID_0000   M    9  1987   -  not_stated     1988-09-30            -   \n",
      "1  ID_0001   F   12  1991   -       White     1994-11-26            -   \n",
      "2  ID_0002   M   12  1993   -       White     1999-07-19            -   \n",
      "3  ID_0003   M    3  2000   -      others     2002-12-05            -   \n",
      "4  ID_0004   F    2  1988   -      others     1996-05-19            -   \n",
      "\n",
      "  GP_Follow_Up_End  \n",
      "0                -  \n",
      "1                -  \n",
      "2                -  \n",
      "3                -  \n",
      "4                -  \n"
     ]
    }
   ],
   "source": [
    "# Assign GP Follow-Up End date\n",
    "demog['GP_Follow_Up_End'] = [\n",
    "    demog['DoD'][i] or demog['Reg_End_Date'][i] or datetime(2023, 5, 18)\n",
    "    for i in range(num_records)\n",
    "]\n",
    "\n",
    "print(demog.head())"
   ]
  },
  {
   "cell_type": "code",
   "execution_count": 152,
   "id": "f8dd38f4-9de4-4c87-8693-eb1d8b9cd7ce",
   "metadata": {},
   "outputs": [
    {
     "name": "stdout",
     "output_type": "stream",
     "text": [
      "Total records: 3000\n",
      "Number of records with a date of death: 574\n",
      "Percentage of records with a date of death: 19.13%\n",
      "      PPID Sex  MoB   YoB DoD  Ethnicity6 Reg_Start_Date Reg_End_Date  \\\n",
      "0  ID_0000   M    9  1987   -  not_stated     1988-09-30            -   \n",
      "1  ID_0001   F   12  1991   -       White     1994-11-26            -   \n",
      "2  ID_0002   M   12  1993   -       White     1999-07-19            -   \n",
      "3  ID_0003   M    3  2000   -      others     2002-12-05            -   \n",
      "4  ID_0004   F    2  1988   -      others     1996-05-19            -   \n",
      "\n",
      "  GP_Follow_Up_End  \n",
      "0                -  \n",
      "1                -  \n",
      "2                -  \n",
      "3                -  \n",
      "4                -  \n"
     ]
    }
   ],
   "source": [
    "# Count\n",
    "count = demog['GP_Follow_Up_End'].value_counts()\n",
    "# Calculate the proportion of records with a date of death\n",
    "percentage_with1 = count.loc[count.index != '-'].sum() / num_records * 100\n",
    "\n",
    "# Print the results\n",
    "print(f\"Total records: {num_records}\")\n",
    "print(f\"Number of records with a date of death: {count.loc[count.index != '-'].sum()}\")\n",
    "print(f\"Percentage of records with a date of death: {percentage_with1:.2f}%\")\n",
    "\n",
    "print(demog.head())"
   ]
  },
  {
   "cell_type": "code",
   "execution_count": 153,
   "id": "69eeeb5f-07b1-4df0-b509-ca596074fae6",
   "metadata": {},
   "outputs": [],
   "source": [
    "# Fill missing values in 'GP' column with datetime(2023, 5, 18)\n",
    "\n",
    "# Fill missing values and '-' with datetime(2023, 5, 18)\n",
    "demog['GP_Follow_Up_End'] = demog['GP_Follow_Up_End'].replace(['-', None], datetime(2023, 5, 18))"
   ]
  },
  {
   "cell_type": "code",
   "execution_count": 154,
   "id": "191e1194-ab79-431e-9a39-8c5a90f2aa70",
   "metadata": {},
   "outputs": [],
   "source": [
    "# Convert DataFrame to TSV format and save to a specific path\n",
    "demog.to_csv('C:/Users/User/Desktop/demog_synthetic_data.tsv', sep='\\t', index=False)\n"
   ]
  },
  {
   "cell_type": "markdown",
   "id": "556cecf9-324b-418c-ab89-d6595ec1ec9c",
   "metadata": {},
   "source": [
    "DIAGNOSIS"
   ]
  },
  {
   "cell_type": "code",
   "execution_count": 130,
   "id": "2794e590-9598-411f-9885-a19a77eb4f09",
   "metadata": {},
   "outputs": [
    {
     "name": "stdout",
     "output_type": "stream",
     "text": [
      "         PPID Reg_Start_Date Condition\n",
      "0     ID_0000     2003-10-01       ILD\n",
      "1     ID_0000     2003-10-01    Wheeze\n",
      "2     ID_0001     1991-03-19       ILD\n",
      "3     ID_0001     1991-03-19       ILD\n",
      "4     ID_0001     1991-03-19    Asthma\n",
      "...       ...            ...       ...\n",
      "7541  ID_2997     2005-10-09    Asthma\n",
      "7542  ID_2997     2005-10-09      COPD\n",
      "7543  ID_2997     2005-10-09      COPD\n",
      "7544  ID_2998     1992-07-26    Wheeze\n",
      "7545  ID_2999     2006-11-08      COPD\n",
      "\n",
      "[7546 rows x 3 columns]\n"
     ]
    }
   ],
   "source": [
    "#create a dataframe with PPID and Reg start date\n",
    "## for the diagnosis \n",
    "\n",
    "# Define the conditions\n",
    "conditions = ['Asthma', 'COPD', 'Wheeze', 'ILD']\n",
    "\n",
    "# Expand the DataFrame with multiple entries for some PPIDs\n",
    "expanded_data = []\n",
    "\n",
    "for _, row in demog.iterrows():\n",
    "    num_entries = np.random.randint(1, 5)  # Randomly choose how many entries for each PPID betwn 1 to 4\n",
    "    for _ in range(num_entries):\n",
    "        condition = np.random.choice(conditions) #applies the codition randomly\n",
    "        expanded_data.append({\n",
    "            'PPID': row['PPID'],\n",
    "            'Reg_Start_Date': row['Reg_Start_Date'],\n",
    "            'Condition': condition\n",
    "        })\n",
    "\n",
    "# Create the expanded DataFrame\n",
    "diagnosis = pd.DataFrame(expanded_data)\n",
    "print(diagnosis)"
   ]
  },
  {
   "cell_type": "code",
   "execution_count": 155,
   "id": "9d86bfb8-93be-442c-96bc-5f9fcd8f76b4",
   "metadata": {},
   "outputs": [
    {
     "name": "stdout",
     "output_type": "stream",
     "text": [
      "         PPID Reg_Start_Date Condition EarliestMention EarliestIncidence  \\\n",
      "0     ID_0000     2003-10-01       ILD      2007-12-14        2007-04-14   \n",
      "1     ID_0000     2003-10-01    Wheeze      2005-12-08        2007-10-30   \n",
      "2     ID_0001     1991-03-19       ILD      2005-10-26        2007-07-07   \n",
      "3     ID_0001     1991-03-19       ILD      2004-05-30        2007-11-07   \n",
      "4     ID_0001     1991-03-19    Asthma      2004-01-13        2007-07-11   \n",
      "...       ...            ...       ...             ...               ...   \n",
      "7541  ID_2997     2005-10-09    Asthma      2006-03-04        2007-07-13   \n",
      "7542  ID_2997     2005-10-09      COPD      2007-07-21        2007-08-15   \n",
      "7543  ID_2997     2005-10-09      COPD      2006-03-09        2007-09-29   \n",
      "7544  ID_2998     1992-07-26    Wheeze      2002-05-15        2007-04-21   \n",
      "7545  ID_2999     2006-11-08      COPD      2006-11-15        2007-11-01   \n",
      "\n",
      "     EarliestIncidencePrimaryCare  \n",
      "0                      2007-04-14  \n",
      "1                      2007-10-30  \n",
      "2                      2007-07-07  \n",
      "3                      2007-11-07  \n",
      "4                      2007-07-11  \n",
      "...                           ...  \n",
      "7541                   2007-07-13  \n",
      "7542                   2007-08-15  \n",
      "7543                   2007-09-29  \n",
      "7544                   2007-04-21  \n",
      "7545                   2007-11-01  \n",
      "\n",
      "[7546 rows x 6 columns]\n"
     ]
    }
   ],
   "source": [
    "## on the dignosis data frame, add earliest mention date has to be between date registered and 2007\n",
    "## if registered date is before 1990, then earliest mention date is between 1990 and 2007\n",
    "\n",
    " #function generates random dates betwn 1990 and 2007\n",
    "def random_date(start, end):\n",
    "    delta = end - start\n",
    "    return start + timedelta(days=np.random.randint(0, delta.days + 1))\n",
    "\n",
    "# Generate EarliestMention column\n",
    "def generate_earliest_mention(Reg_Start_Date):\n",
    "    if Reg_Start_Date.year < 1990:\n",
    "        start_date = datetime(1990, 1, 1)\n",
    "    else:\n",
    "        start_date = Reg_Start_Date\n",
    "    end_date = datetime(2007, 12, 31)\n",
    "    return random_date(start_date, end_date)\n",
    "\n",
    "\n",
    "diagnosis['EarliestMention'] = diagnosis['Reg_Start_Date'].apply(generate_earliest_mention) #apply to the dataframe each function\n",
    "\n",
    "\n",
    "print(diagnosis)"
   ]
  },
  {
   "cell_type": "code",
   "execution_count": 157,
   "id": "8a187d99-19ff-49c9-8eb1-cfc49920116c",
   "metadata": {},
   "outputs": [
    {
     "name": "stdout",
     "output_type": "stream",
     "text": [
      "         PPID Reg_Start_Date Condition EarliestMention EarliestIncidence  \\\n",
      "0     ID_0000     2003-10-01       ILD      2007-12-14        2007-09-28   \n",
      "1     ID_0000     2003-10-01    Wheeze      2005-12-08        2005-09-19   \n",
      "2     ID_0001     1991-03-19       ILD      2005-10-26        2003-10-24   \n",
      "3     ID_0001     1991-03-19       ILD      2004-05-30        1994-04-10   \n",
      "4     ID_0001     1991-03-19    Asthma      2004-01-13        2000-08-02   \n",
      "...       ...            ...       ...             ...               ...   \n",
      "7541  ID_2997     2005-10-09    Asthma      2006-03-04        2006-03-04   \n",
      "7542  ID_2997     2005-10-09      COPD      2007-07-21        2006-10-16   \n",
      "7543  ID_2997     2005-10-09      COPD      2006-03-09        2006-03-09   \n",
      "7544  ID_2998     1992-07-26    Wheeze      2002-05-15        1997-05-07   \n",
      "7545  ID_2999     2006-11-08      COPD      2006-11-15        2006-11-15   \n",
      "\n",
      "     EarliestIncidencePrimaryCare  \n",
      "0                      2007-04-14  \n",
      "1                      2007-10-30  \n",
      "2                      2007-07-07  \n",
      "3                      2007-11-07  \n",
      "4                      2007-07-11  \n",
      "...                           ...  \n",
      "7541                   2007-07-13  \n",
      "7542                   2007-08-15  \n",
      "7543                   2007-09-29  \n",
      "7544                   2007-04-21  \n",
      "7545                   2007-11-01  \n",
      "\n",
      "[7546 rows x 6 columns]\n"
     ]
    }
   ],
   "source": [
    "#creating earliest incidence\n",
    "# Function to generate EarliestIncidence\n",
    "def generate_Earliest_Incidence(row):\n",
    "    reg_start_date = row['Reg_Start_Date']\n",
    "    earliest_mention = row['EarliestMention']\n",
    "    start_date = reg_start_date + timedelta(days=365)  # 1 year after registration date\n",
    "    end_date = earliest_mention\n",
    "\n",
    "    if start_date >= end_date:\n",
    "        # If start_date is not before end_date, set start_date to a day before end_date\n",
    "        start_date = end_date - timedelta(days=1)\n",
    "\n",
    "    return random_date(start_date, end_date)\n",
    "\n",
    "# Add the EarliestIncidence column\n",
    "diagnosis['EarliestIncidence'] = diagnosis.apply(generate_Earliest_Incidence, axis=1) #axis=1 ensures the function is applied to rows instead of columns\n",
    "print(diagnosis)"
   ]
  },
  {
   "cell_type": "code",
   "execution_count": 159,
   "id": "092b6d6c-8593-405f-8aac-54e5e2c60140",
   "metadata": {},
   "outputs": [
    {
     "name": "stdout",
     "output_type": "stream",
     "text": [
      "         PPID Reg_Start_Date Condition EarliestMention EarliestIncidence  \\\n",
      "0     ID_0000     2003-10-01       ILD      2007-12-14        2007-09-28   \n",
      "1     ID_0000     2003-10-01    Wheeze      2005-12-08        2005-09-19   \n",
      "2     ID_0001     1991-03-19       ILD      2005-10-26        2003-10-24   \n",
      "3     ID_0001     1991-03-19       ILD      2004-05-30        1994-04-10   \n",
      "4     ID_0001     1991-03-19    Asthma      2004-01-13        2000-08-02   \n",
      "...       ...            ...       ...             ...               ...   \n",
      "7541  ID_2997     2005-10-09    Asthma      2006-03-04        2006-03-04   \n",
      "7542  ID_2997     2005-10-09      COPD      2007-07-21        2006-10-16   \n",
      "7543  ID_2997     2005-10-09      COPD      2006-03-09        2006-03-09   \n",
      "7544  ID_2998     1992-07-26    Wheeze      2002-05-15        1997-05-07   \n",
      "7545  ID_2999     2006-11-08      COPD      2006-11-15        2006-11-15   \n",
      "\n",
      "     EarliestIncidencePrimaryCare  \n",
      "0                      2007-09-28  \n",
      "1                      2005-09-19  \n",
      "2                      2003-10-24  \n",
      "3                      1994-04-10  \n",
      "4                      2000-08-02  \n",
      "...                           ...  \n",
      "7541                   2006-03-04  \n",
      "7542                   2006-10-16  \n",
      "7543                   2006-03-09  \n",
      "7544                   1997-05-07  \n",
      "7545                   2006-11-15  \n",
      "\n",
      "[7546 rows x 6 columns]\n"
     ]
    }
   ],
   "source": [
    "##ealiest incidence in primary care, since all data gotten is form primary care this can be same as incidence date\n",
    "#making all values in earliest incidence and earliest incideence in primary care same\n",
    "diagnosis['EarliestIncidencePrimaryCare'] = diagnosis['EarliestIncidence']\n",
    "print(diagnosis)"
   ]
  },
  {
   "cell_type": "code",
   "execution_count": 161,
   "id": "9285b589-3e89-456c-a991-a0a3b3a8022c",
   "metadata": {},
   "outputs": [
    {
     "name": "stdout",
     "output_type": "stream",
     "text": [
      "         PPID Reg_Start_Date Condition EarliestMention EarliestIncidence  \\\n",
      "0     ID_0000     2003-10-01       ILD      2007-12-14        2007-09-28   \n",
      "1     ID_0000     2003-10-01    Wheeze      2005-12-08        2005-09-19   \n",
      "2     ID_0001     1991-03-19       ILD      2005-10-26        2003-10-24   \n",
      "3     ID_0001     1991-03-19       ILD      2004-05-30        1994-04-10   \n",
      "4     ID_0001     1991-03-19    Asthma      2004-01-13        2000-08-02   \n",
      "...       ...            ...       ...             ...               ...   \n",
      "7541  ID_2997     2005-10-09    Asthma      2006-03-04        2006-03-04   \n",
      "7542  ID_2997     2005-10-09      COPD      2007-07-21        2006-10-16   \n",
      "7543  ID_2997     2005-10-09      COPD      2006-03-09        2006-03-09   \n",
      "7544  ID_2998     1992-07-26    Wheeze      2002-05-15        1997-05-07   \n",
      "7545  ID_2999     2006-11-08      COPD      2006-11-15        2006-11-15   \n",
      "\n",
      "     EarliestIncidencePrimaryCare EarliestIncidenceInPrimaryCare  \n",
      "0                      2007-09-28                            NaN  \n",
      "1                      2005-09-19                            NaN  \n",
      "2                      2003-10-24                            NaN  \n",
      "3                      1994-04-10                            NaN  \n",
      "4                      2000-08-02                            NaN  \n",
      "...                           ...                            ...  \n",
      "7541                   2006-03-04                            NaN  \n",
      "7542                   2006-10-16                            NaN  \n",
      "7543                   2006-03-09                            NaN  \n",
      "7544                   1997-05-07                            NaN  \n",
      "7545                   2006-11-15                            NaN  \n",
      "\n",
      "[7546 rows x 7 columns]\n"
     ]
    }
   ],
   "source": [
    "#randomly assign NULL\n",
    "mask = np.random.rand(len(diagnosis)) < 0.07 #7% NULL is applied randomly\n",
    "diagnosis.loc[mask, 'EarliestIncidencePrimaryCare'] = None\n",
    "print(diagnosis)"
   ]
  },
  {
   "cell_type": "code",
   "execution_count": 166,
   "id": "c0f87f9d-0e39-4f94-b0f1-378c32f99435",
   "metadata": {},
   "outputs": [
    {
     "name": "stdout",
     "output_type": "stream",
     "text": [
      "Total records: 3000\n",
      "Number of records with a date of death: 6983\n",
      "Percentage of records with a date of death: 232.77%\n",
      "      PPID Reg_Start_Date Condition EarliestMention EarliestIncidence  \\\n",
      "0  ID_0000     2003-10-01       ILD      2007-12-14        2007-09-28   \n",
      "1  ID_0000     2003-10-01    Wheeze      2005-12-08        2005-09-19   \n",
      "2  ID_0001     1991-03-19       ILD      2005-10-26        2003-10-24   \n",
      "3  ID_0001     1991-03-19       ILD      2004-05-30        1994-04-10   \n",
      "4  ID_0001     1991-03-19    Asthma      2004-01-13        2000-08-02   \n",
      "\n",
      "  EarliestIncidencePrimaryCare  \n",
      "0                   2007-09-28  \n",
      "1                   2005-09-19  \n",
      "2                   2003-10-24  \n",
      "3                   1994-04-10  \n",
      "4                   2000-08-02  \n"
     ]
    }
   ],
   "source": [
    "#count\n",
    "count = diagnosis['EarliestIncidencePrimaryCare'].value_counts()\n",
    "# Calculate the proportion of records with a date of death\n",
    "percentage_with1 = count.loc[count.index != '-'].sum() / num_records * 100\n",
    "\n",
    "# Print the results\n",
    "print(f\"Total records: {num_records}\")\n",
    "print(f\"Number of records with a date of death: {count.loc[count.index != '-'].sum()}\")\n",
    "print(f\"Percentage of records with a date of death: {percentage_with1:.2f}%\")\n",
    "\n",
    "print(diagnosis.head())"
   ]
  },
  {
   "cell_type": "code",
   "execution_count": 165,
   "id": "cb912ade-cf86-48bc-a13c-f9c8c718d4bd",
   "metadata": {},
   "outputs": [],
   "source": [
    "#drop\n",
    "diagnosis.drop(['EarliestIncidenceInPrimaryCare'],axis=1,inplace=True)"
   ]
  },
  {
   "cell_type": "code",
   "execution_count": 167,
   "id": "9ded0ab3-ef8f-4c57-8c48-9ddd957005b9",
   "metadata": {},
   "outputs": [
    {
     "name": "stdout",
     "output_type": "stream",
     "text": [
      "         PPID Reg_Start_Date Condition EarliestMention EarliestIncidence  \\\n",
      "0     ID_0000     2003-10-01       ILD      2007-12-14        2007-09-28   \n",
      "1     ID_0000     2003-10-01    Wheeze      2005-12-08        2005-09-19   \n",
      "2     ID_0001     1991-03-19       ILD      2005-10-26        2003-10-24   \n",
      "3     ID_0001     1991-03-19       ILD      2004-05-30        1994-04-10   \n",
      "4     ID_0001     1991-03-19    Asthma      2004-01-13        2000-08-02   \n",
      "...       ...            ...       ...             ...               ...   \n",
      "7541  ID_2997     2005-10-09    Asthma      2006-03-04        2006-03-04   \n",
      "7542  ID_2997     2005-10-09      COPD      2007-07-21        2006-10-16   \n",
      "7543  ID_2997     2005-10-09      COPD      2006-03-09        2006-03-09   \n",
      "7544  ID_2998     1992-07-26    Wheeze      2002-05-15        1997-05-07   \n",
      "7545  ID_2999     2006-11-08      COPD      2006-11-15        2006-11-15   \n",
      "\n",
      "     EarliestIncidencePrimaryCare EarliestMentionPrimaryCare  \n",
      "0                      2007-09-28                 2007-12-14  \n",
      "1                      2005-09-19                 2005-12-08  \n",
      "2                      2003-10-24                        NaT  \n",
      "3                      1994-04-10                 2004-05-30  \n",
      "4                      2000-08-02                 2004-01-13  \n",
      "...                           ...                        ...  \n",
      "7541                   2006-03-04                 2006-03-04  \n",
      "7542                   2006-10-16                 2007-07-21  \n",
      "7543                   2006-03-09                        NaT  \n",
      "7544                   1997-05-07                 2002-05-15  \n",
      "7545                   2006-11-15                 2006-11-15  \n",
      "\n",
      "[7546 rows x 7 columns]\n"
     ]
    }
   ],
   "source": [
    "##earliest mention in primary care\n",
    "##has to be same as earliest mention\n",
    "diagnosis['EarliestMentionPrimaryCare'] = diagnosis['EarliestMention']\n",
    "#randomly assign NULL\n",
    "mask1 = np.random.rand(len(diagnosis)) < 0.07 #7% NULL is applied randomly\n",
    "diagnosis.loc[mask1, 'EarliestMentionPrimaryCare'] = None\n",
    "print(diagnosis)"
   ]
  },
  {
   "cell_type": "code",
   "execution_count": 168,
   "id": "12f88626-4188-4b59-92e0-b6687e9aa91d",
   "metadata": {},
   "outputs": [],
   "source": [
    "# Convert DataFrame to TSV format and save to a specific path\n",
    "diagnosis.to_csv('C:/Users/User/Desktop/diagnosis_synthetic_data.tsv', sep='\\t', index=False)"
   ]
  },
  {
   "cell_type": "markdown",
   "id": "b1aa616a-95e3-4e0d-8862-b2fa8fcbb07b",
   "metadata": {},
   "source": [
    "CONDITION EVENT"
   ]
  },
  {
   "cell_type": "code",
   "execution_count": 171,
   "id": "acdd6b99-1e3a-4bdd-827e-5384eeb0635b",
   "metadata": {},
   "outputs": [
    {
     "name": "stdout",
     "output_type": "stream",
     "text": [
      "         PPID Reg_Start_Date Condition\n",
      "0     ID_0000     2003-10-01       ILD\n",
      "1     ID_0000     2003-10-01    Wheeze\n",
      "2     ID_0001     1991-03-19       ILD\n",
      "3     ID_0001     1991-03-19       ILD\n",
      "4     ID_0001     1991-03-19    Asthma\n",
      "...       ...            ...       ...\n",
      "7541  ID_2997     2005-10-09    Asthma\n",
      "7542  ID_2997     2005-10-09      COPD\n",
      "7543  ID_2997     2005-10-09      COPD\n",
      "7544  ID_2998     1992-07-26    Wheeze\n",
      "7545  ID_2999     2006-11-08      COPD\n",
      "\n",
      "[7546 rows x 3 columns]\n"
     ]
    }
   ],
   "source": [
    "#PPID AND conditions from diagnosis\n",
    "##events date: the date these events happen? random dates after YOB \n",
    "\n",
    "#take ppid, condition and reg start date\n",
    "\n",
    "conditionEvent = diagnosis[['PPID','Reg_Start_Date', 'Condition']] #double square bracket for moving multiple column\n",
    "print(conditionEvent)"
   ]
  },
  {
   "cell_type": "code",
   "execution_count": 172,
   "id": "4a499b2d-6648-498b-a7d0-a29582039096",
   "metadata": {},
   "outputs": [],
   "source": [
    "#to allocate code and description column\n",
    "#first we map each condition with its code and description\n",
    "\n",
    "condition_mapping = {\n",
    "    'Asthma': [\n",
    "        ('173A.00', 'Exercise induced asthma'),\n",
    "        ('173c.00', 'Occupation asthma'),\n",
    "        ('1780.00', 'Aspirin induced asthma'),\n",
    "        ('1782.00', 'Asthma trigger-tobacco smoke'),\n",
    "        ('178B.00', 'Asthma trigger-Exercise'),\n",
    "        ('102.00', 'Asthma confirmed'),\n",
    "        ('663V000', 'Occasional asthma'),\n",
    "        ('663V200', 'Moderate asthma'),\n",
    "        ('663V300', 'Severe asthma'),\n",
    "        ('H33z100', 'Asthma attack')\n",
    "    ],\n",
    "    'COPD': [\n",
    "        ('66Yg.00', 'COPD disturbs sleep'),\n",
    "        ('66Yh.00', 'COPD does not disturb sleep'),\n",
    "        ('H30Z.00', 'Bronchitis'),\n",
    "        ('J410', 'Simple chronic bronchitis'),\n",
    "        ('J43X', 'Emphysema'),\n",
    "        ('J44X', 'Other COPD')\n",
    "    ],\n",
    "    'ILD': [\n",
    "        ('AD50.00', 'Sarcoidosis of lung'),\n",
    "        ('C370.11', 'Fibrocystic disease'),\n",
    "        ('H350.00', 'Farmer’s lung'),\n",
    "        ('H351.00', 'Bagassosis'),\n",
    "        ('H41..00', 'Asbestosis'),\n",
    "        ('H435.00', 'Stannosis'),\n",
    "        ('H563200', 'Pulmonary fibrosis')\n",
    "    ],\n",
    "    'Wheeze': [\n",
    "        ('1737.00', 'Wheezing'),\n",
    "        ('1737.11', 'Wheezing symptoms'),\n",
    "        ('1737100', 'Wheezing in absence of cold'),\n",
    "        ('173e.00', 'Viral wheezing'),\n",
    "        ('R060G00', 'Moderate wheezing'),\n",
    "        ('R060H00', 'Severe wheezing')\n",
    "    ]\n",
    "}\n"
   ]
  },
  {
   "cell_type": "code",
   "execution_count": 174,
   "id": "2106270b-e482-4193-91b2-6d1a8dbc73f3",
   "metadata": {},
   "outputs": [
    {
     "name": "stdout",
     "output_type": "stream",
     "text": [
      "         PPID Reg_Start_Date Condition     Code                Description\n",
      "0     ID_0000     2003-10-01       ILD  H351.00                 Bagassosis\n",
      "1     ID_0000     2003-10-01    Wheeze  1737.11          Wheezing symptoms\n",
      "2     ID_0001     1991-03-19       ILD  H563200         Pulmonary fibrosis\n",
      "3     ID_0001     1991-03-19       ILD  H350.00              Farmer’s lung\n",
      "4     ID_0001     1991-03-19    Asthma  663V000          Occasional asthma\n",
      "...       ...            ...       ...      ...                        ...\n",
      "7541  ID_2997     2005-10-09    Asthma  173A.00    Exercise induced asthma\n",
      "7542  ID_2997     2005-10-09      COPD     J410  Simple chronic bronchitis\n",
      "7543  ID_2997     2005-10-09      COPD  66Yg.00        COPD disturbs sleep\n",
      "7544  ID_2998     1992-07-26    Wheeze  1737.11          Wheezing symptoms\n",
      "7545  ID_2999     2006-11-08      COPD     J43X                  Emphysema\n",
      "\n",
      "[7546 rows x 5 columns]\n"
     ]
    },
    {
     "name": "stderr",
     "output_type": "stream",
     "text": [
      "C:\\Users\\user\\AppData\\Local\\Temp\\ipykernel_9628\\1857652564.py:13: SettingWithCopyWarning: \n",
      "A value is trying to be set on a copy of a slice from a DataFrame.\n",
      "Try using .loc[row_indexer,col_indexer] = value instead\n",
      "\n",
      "See the caveats in the documentation: https://pandas.pydata.org/pandas-docs/stable/user_guide/indexing.html#returning-a-view-versus-a-copy\n",
      "  conditionEvent[['Code', 'Description']] = conditionEvent.apply(assign_code_and_description, axis=1)\n",
      "C:\\Users\\user\\AppData\\Local\\Temp\\ipykernel_9628\\1857652564.py:13: SettingWithCopyWarning: \n",
      "A value is trying to be set on a copy of a slice from a DataFrame.\n",
      "Try using .loc[row_indexer,col_indexer] = value instead\n",
      "\n",
      "See the caveats in the documentation: https://pandas.pydata.org/pandas-docs/stable/user_guide/indexing.html#returning-a-view-versus-a-copy\n",
      "  conditionEvent[['Code', 'Description']] = conditionEvent.apply(assign_code_and_description, axis=1)\n"
     ]
    }
   ],
   "source": [
    "#create function to asssign this code to individual rows with conditions\n",
    "##this function takes each row, as an inpute and randomly returns a code and description according to thwe condition row\n",
    "def assign_code_and_description(row):\n",
    "    condition = row['Condition']\n",
    "    if condition in condition_mapping:\n",
    "        code_desc = condition_mapping[condition][np.random.randint(len(condition_mapping[condition]))]\n",
    "        return pd.Series([code_desc[0], code_desc[1]], index=['Code', 'Description'])\n",
    "    else:\n",
    "        return pd.Series([np.nan, np.nan], index=['Code', 'Description'])\n",
    "\n",
    "# Apply is used to apply the function while creating new columns  to each row in the DataFrame, axis 1 enures every row is dealt with\n",
    "#\n",
    "conditionEvent[['Code', 'Description']] = conditionEvent.apply(assign_code_and_description, axis=1)\n",
    "\n",
    "print(conditionEvent)"
   ]
  },
  {
   "cell_type": "code",
   "execution_count": 176,
   "id": "a67fe541-a605-412c-a9e2-20cdc64dea88",
   "metadata": {},
   "outputs": [
    {
     "name": "stdout",
     "output_type": "stream",
     "text": [
      "2006-12-31 00:00:00\n"
     ]
    }
   ],
   "source": [
    "max_date = conditionEvent['Reg_Start_Date'].max()\n",
    "print(max_date)"
   ]
  },
  {
   "cell_type": "code",
   "execution_count": 180,
   "id": "8b2a7bf3-d806-467c-8cc2-fcb3343a54ce",
   "metadata": {},
   "outputs": [
    {
     "name": "stdout",
     "output_type": "stream",
     "text": [
      "         PPID Reg_Start_Date Condition     Code                Description  \\\n",
      "0     ID_0000     2003-10-01       ILD  H351.00                 Bagassosis   \n",
      "1     ID_0000     2003-10-01    Wheeze  1737.11          Wheezing symptoms   \n",
      "2     ID_0001     1991-03-19       ILD  H563200         Pulmonary fibrosis   \n",
      "3     ID_0001     1991-03-19       ILD  H350.00              Farmer’s lung   \n",
      "4     ID_0001     1991-03-19    Asthma  663V000          Occasional asthma   \n",
      "...       ...            ...       ...      ...                        ...   \n",
      "7541  ID_2997     2005-10-09    Asthma  173A.00    Exercise induced asthma   \n",
      "7542  ID_2997     2005-10-09      COPD     J410  Simple chronic bronchitis   \n",
      "7543  ID_2997     2005-10-09      COPD  66Yg.00        COPD disturbs sleep   \n",
      "7544  ID_2998     1992-07-26    Wheeze  1737.11          Wheezing symptoms   \n",
      "7545  ID_2999     2006-11-08      COPD     J43X                  Emphysema   \n",
      "\n",
      "     Event_date  \n",
      "0    2004-04-22  \n",
      "1    2004-06-11  \n",
      "2    1993-03-21  \n",
      "3    2002-02-02  \n",
      "4    1999-08-29  \n",
      "...         ...  \n",
      "7541 2006-12-03  \n",
      "7542 2006-09-24  \n",
      "7543 2006-05-22  \n",
      "7544 2002-05-10  \n",
      "7545 2006-12-20  \n",
      "\n",
      "[7546 rows x 6 columns]\n"
     ]
    }
   ],
   "source": [
    "#setting event date\n",
    "## any date from rege start date till 2007\n",
    "\n",
    "def generate_event_date(Reg_Start_Date):\n",
    "    start_date = Reg_Start_Date\n",
    "    end_date = datetime(2007,1,1)\n",
    "    return random_date(start_date,end_date)\n",
    "\n",
    "conditionEvent.loc[:, 'Event_date'] = conditionEvent['Reg_Start_Date'].apply(generate_event_date)\n",
    "\n",
    "print(conditionEvent)"
   ]
  },
  {
   "cell_type": "code",
   "execution_count": 181,
   "id": "1be4200d-1306-491e-9caf-8fe6c90dfccd",
   "metadata": {},
   "outputs": [],
   "source": [
    "# Convert DataFrame to TSV format and save to a specific path\n",
    "conditionEvent.to_csv('C:/Users/User/Desktop/conditionEvent_synthetic_data.tsv', sep='\\t', index=False)"
   ]
  },
  {
   "cell_type": "markdown",
   "id": "29a5a6f2-95e5-47af-9f42-b3ca8bd249fc",
   "metadata": {},
   "source": [
    "measurement\n"
   ]
  },
  {
   "cell_type": "code",
   "execution_count": 182,
   "id": "62bc601a-1f96-4bf3-b5e0-5a0a2ed79a47",
   "metadata": {},
   "outputs": [
    {
     "name": "stdout",
     "output_type": "stream",
     "text": [
      "         PPID Reg_Start_Date\n",
      "0     ID_0000     2003-10-01\n",
      "1     ID_0000     2003-10-01\n",
      "2     ID_0001     1991-03-19\n",
      "3     ID_0001     1991-03-19\n",
      "4     ID_0001     1991-03-19\n",
      "...       ...            ...\n",
      "7541  ID_2997     2005-10-09\n",
      "7542  ID_2997     2005-10-09\n",
      "7543  ID_2997     2005-10-09\n",
      "7544  ID_2998     1992-07-26\n",
      "7545  ID_2999     2006-11-08\n",
      "\n",
      "[7546 rows x 2 columns]\n"
     ]
    }
   ],
   "source": [
    "##contains BMI, body height, and smoking status sub section\n",
    "##main column contains PPID, measurement date, code, textval numeric val\n",
    "#move PPID and reg start date from initial dataframe\n",
    "\n",
    "measurement = conditionEvent[['PPID','Reg_Start_Date']]\n",
    "print(measurement)"
   ]
  },
  {
   "cell_type": "code",
   "execution_count": 186,
   "id": "ab0590e7-e308-4840-8981-3f67d19da037",
   "metadata": {},
   "outputs": [
    {
     "name": "stdout",
     "output_type": "stream",
     "text": [
      "         PPID Reg_Start_Date            code\n",
      "0     ID_0000     2003-10-01    BODY HEIGHTS\n",
      "1     ID_0000     2003-10-01    BODY HEIGHTS\n",
      "2     ID_0001     1991-03-19             BMI\n",
      "3     ID_0001     1991-03-19             BMI\n",
      "4     ID_0001     1991-03-19             BMI\n",
      "...       ...            ...             ...\n",
      "6751  ID_2997     2005-10-09    BODY HEIGHTS\n",
      "6752  ID_2997     2005-10-09    BODY HEIGHTS\n",
      "6753  ID_2997     2005-10-09    BODY HEIGHTS\n",
      "6754  ID_2998     1992-07-26             BMI\n",
      "6755  ID_2999     2006-11-08  SMOKING STATUS\n",
      "\n",
      "[6756 rows x 3 columns]\n"
     ]
    }
   ],
   "source": [
    "##reduce all replicated PPID more than 3 to 3\n",
    "\n",
    "# Reduce occurrences of each PPID to a maximum of 3\n",
    "def limit_ppid_occurrences(df, max_occurrences=3): #looks through all the lines for max occurence\n",
    "    return df.groupby('PPID').head(max_occurrences).reset_index(drop=True) #groups by 3 and drops more than\n",
    "\n",
    "measurement = limit_ppid_occurrences(measurement) #apply function to the df\n",
    "print(measurement)"
   ]
  },
  {
   "cell_type": "code",
   "execution_count": 187,
   "id": "dfb8c122-9598-4a16-83ef-13bef4fba834",
   "metadata": {},
   "outputs": [
    {
     "name": "stdout",
     "output_type": "stream",
     "text": [
      "         PPID Reg_Start_Date            code       text_code\n",
      "0     ID_0000     2003-10-01    BODY HEIGHTS    BODY HEIGHTS\n",
      "1     ID_0000     2003-10-01    BODY HEIGHTS             BMI\n",
      "2     ID_0001     1991-03-19             BMI  SMOKING STATUS\n",
      "3     ID_0001     1991-03-19             BMI             BMI\n",
      "4     ID_0001     1991-03-19             BMI    BODY HEIGHTS\n",
      "...       ...            ...             ...             ...\n",
      "6751  ID_2997     2005-10-09    BODY HEIGHTS    BODY HEIGHTS\n",
      "6752  ID_2997     2005-10-09    BODY HEIGHTS             BMI\n",
      "6753  ID_2997     2005-10-09    BODY HEIGHTS  SMOKING STATUS\n",
      "6754  ID_2998     1992-07-26             BMI    BODY HEIGHTS\n",
      "6755  ID_2999     2006-11-08  SMOKING STATUS             BMI\n",
      "\n",
      "[6756 rows x 4 columns]\n"
     ]
    }
   ],
   "source": [
    "# Text codes\n",
    "text_codes = ['BMI', 'BODY HEIGHTS', 'SMOKING STATUS']\n",
    "\n",
    "# Create a function to assign text codes\n",
    "#Function ensures each PPID gets its code\n",
    "def assign_text_codes(measurement, text_code_list):\n",
    "    text_code_dict = {}\n",
    "    for ppid in measurement['PPID'].unique():\n",
    "        np.random.shuffle(text_code_list)\n",
    "        text_code_dict[ppid] = text_code_list.copy()\n",
    "    \n",
    "    text_codes_assigned = []\n",
    "    for ppid in measurement['PPID']:\n",
    "        text_codes_assigned.append(text_code_dict[ppid].pop()) #create a list of the text code and ensure each row has 1 of each while checking for PPID\n",
    "    return text_codes_assigned\n",
    "\n",
    "# Assign the text codes \n",
    "measurement['text_code'] = assign_text_codes(measurement, text_codes)\n",
    "\n",
    "print(measurement)"
   ]
  },
  {
   "cell_type": "code",
   "execution_count": 188,
   "id": "6ddf23a0-cb93-4b2c-ba9f-8f627fc8e30b",
   "metadata": {},
   "outputs": [
    {
     "name": "stdout",
     "output_type": "stream",
     "text": [
      "         PPID Reg_Start_Date       text_code\n",
      "0     ID_0000     2003-10-01    BODY HEIGHTS\n",
      "1     ID_0000     2003-10-01             BMI\n",
      "2     ID_0001     1991-03-19  SMOKING STATUS\n",
      "3     ID_0001     1991-03-19             BMI\n",
      "4     ID_0001     1991-03-19    BODY HEIGHTS\n",
      "...       ...            ...             ...\n",
      "6751  ID_2997     2005-10-09    BODY HEIGHTS\n",
      "6752  ID_2997     2005-10-09             BMI\n",
      "6753  ID_2997     2005-10-09  SMOKING STATUS\n",
      "6754  ID_2998     1992-07-26    BODY HEIGHTS\n",
      "6755  ID_2999     2006-11-08             BMI\n",
      "\n",
      "[6756 rows x 3 columns]\n"
     ]
    }
   ],
   "source": [
    "#drop code column\n",
    "measurement.drop(['code'], axis=1,inplace=True)\n",
    "print(measurement)"
   ]
  },
  {
   "cell_type": "code",
   "execution_count": 192,
   "id": "2fbc0056-7f2d-415b-b13f-693bb6ec5bb5",
   "metadata": {},
   "outputs": [
    {
     "name": "stdout",
     "output_type": "stream",
     "text": [
      "         PPID Reg_Start_Date       text_code              text_val\n",
      "0     ID_0000     2003-10-01    BODY HEIGHTS                     _\n",
      "1     ID_0000     2003-10-01             BMI            overweight\n",
      "2     ID_0001     1991-03-19  SMOKING STATUS             ex_smoker\n",
      "3     ID_0001     1991-03-19             BMI           underweight\n",
      "4     ID_0001     1991-03-19    BODY HEIGHTS  child_at_measurement\n",
      "...       ...            ...             ...                   ...\n",
      "6751  ID_2997     2005-10-09    BODY HEIGHTS  child_at_measurement\n",
      "6752  ID_2997     2005-10-09             BMI                normal\n",
      "6753  ID_2997     2005-10-09  SMOKING STATUS        current_smoker\n",
      "6754  ID_2998     1992-07-26    BODY HEIGHTS                     _\n",
      "6755  ID_2999     2006-11-08             BMI           underweight\n",
      "\n",
      "[6756 rows x 4 columns]\n"
     ]
    }
   ],
   "source": [
    "##create a function based on text value\n",
    "def assign_text_value(row):\n",
    "    if row['text_code']=='BMI':\n",
    "        return np.random.choice(['normal', 'underweight', 'obessed', 'overweight'])\n",
    "    elif row['text_code'] == 'BODY HEIGHTS':\n",
    "        return np.random.choice(['child_at_measurement', '_'])\n",
    "    elif row['text_code'] == 'SMOKING STATUS':\n",
    "        return np.random.choice(['current_smoker', 'ex_smoker', 'none_smoker'])\n",
    "    return np.Nan\n",
    "\n",
    "#assign the value to the df\n",
    "measurement['text_val'] = measurement.apply(assign_text_value,axis=1)\n",
    "print(measurement)"
   ]
  },
  {
   "cell_type": "code",
   "execution_count": 194,
   "id": "f9748810-d996-465b-88fa-ee51e2bfe10f",
   "metadata": {},
   "outputs": [
    {
     "name": "stdout",
     "output_type": "stream",
     "text": [
      "         PPID Reg_Start_Date       text_code              text_val  num_val\n",
      "0     ID_0000     2003-10-01    BODY HEIGHTS                     _      NaN\n",
      "1     ID_0000     2003-10-01             BMI            overweight     26.5\n",
      "2     ID_0001     1991-03-19  SMOKING STATUS             ex_smoker      2.0\n",
      "3     ID_0001     1991-03-19             BMI           underweight     16.2\n",
      "4     ID_0001     1991-03-19    BODY HEIGHTS  child_at_measurement     62.9\n",
      "...       ...            ...             ...                   ...      ...\n",
      "6751  ID_2997     2005-10-09    BODY HEIGHTS  child_at_measurement     43.3\n",
      "6752  ID_2997     2005-10-09             BMI                normal     22.4\n",
      "6753  ID_2997     2005-10-09  SMOKING STATUS        current_smoker      1.0\n",
      "6754  ID_2998     1992-07-26    BODY HEIGHTS                     _      NaN\n",
      "6755  ID_2999     2006-11-08             BMI           underweight     18.0\n",
      "\n",
      "[6756 rows x 5 columns]\n"
     ]
    }
   ],
   "source": [
    "#assign num_value of the BMI, HEIGHT and smoking status\n",
    "def assign_num_val(row):\n",
    "    if row['text_val']=='normal':\n",
    "        return round(np.random.uniform(18.5,24.9),1) #generates a uniqe number within range\n",
    "    elif row['text_val'] == 'obessed':\n",
    "        return round(np.random.uniform(30.0,39.0),1)\n",
    "    elif row['text_val'] == 'overweight':\n",
    "        return round(np.random.uniform(25.0,29.9),1)\n",
    "    elif row['text_val'] == 'underweight':\n",
    "        return round(np.random.uniform(16.0,18.5),1)\n",
    "    elif row['text_val'] == 'current_smoker':\n",
    "        return 1\n",
    "    elif row['text_val'] == 'ex_smoker':\n",
    "        return 2\n",
    "    elif row['text_val'] == 'none_smoker':\n",
    "        return 0\n",
    "    elif row['text_val'] == 'child_at_measurement':\n",
    "        return round(np.random.uniform(42.0,63.5),1)\n",
    "    elif row['text_val'] == '-':\n",
    "        return '_'\n",
    "    return np.nan\n",
    "\n",
    "##apply function\n",
    "\n",
    "measurement['num_val'] = measurement.apply(assign_num_val, axis=1)\n",
    "print(measurement)\n"
   ]
  },
  {
   "cell_type": "code",
   "execution_count": 201,
   "id": "2ffa2d83-6150-4bb6-8cad-dd6ca4d46df8",
   "metadata": {},
   "outputs": [
    {
     "name": "stdout",
     "output_type": "stream",
     "text": [
      "         PPID Reg_Start_Date       text_code              text_val  num_val  \\\n",
      "0     ID_0000     2003-10-01    BODY HEIGHTS                     _      NaN   \n",
      "1     ID_0000     2003-10-01             BMI            overweight     26.5   \n",
      "2     ID_0001     1991-03-19  SMOKING STATUS             ex_smoker      2.0   \n",
      "3     ID_0001     1991-03-19             BMI           underweight     16.2   \n",
      "4     ID_0001     1991-03-19    BODY HEIGHTS  child_at_measurement     62.9   \n",
      "...       ...            ...             ...                   ...      ...   \n",
      "6751  ID_2997     2005-10-09    BODY HEIGHTS  child_at_measurement     43.3   \n",
      "6752  ID_2997     2005-10-09             BMI                normal     22.4   \n",
      "6753  ID_2997     2005-10-09  SMOKING STATUS        current_smoker      1.0   \n",
      "6754  ID_2998     1992-07-26    BODY HEIGHTS                     _      NaN   \n",
      "6755  ID_2999     2006-11-08             BMI           underweight     18.0   \n",
      "\n",
      "     Measurement_Date  \n",
      "0          2003-10-31  \n",
      "1          2003-10-31  \n",
      "2          1991-04-18  \n",
      "3          1991-04-18  \n",
      "4          1991-04-18  \n",
      "...               ...  \n",
      "6751       2005-11-08  \n",
      "6752       2005-11-08  \n",
      "6753       2005-11-08  \n",
      "6754       1992-08-25  \n",
      "6755       2006-12-08  \n",
      "\n",
      "[6756 rows x 6 columns]\n"
     ]
    }
   ],
   "source": [
    "#measurement date\n",
    "#after reg start date\n",
    "#create a function that assign measurement date either on reg start date or 1 month after\n",
    "\n",
    "def assign_measurement_date(row):\n",
    "    reg_start = row['Reg_Start_Date']\n",
    "    #calculate 1 month after reg date for each colum\n",
    "    measurement_date = reg_start + timedelta(days=30)\n",
    "    return measurement_date\n",
    "\n",
    "#apply the function\n",
    "\n",
    "measurement['Measurement_Date'] = measurement.apply(assign_measurement_date, axis=1)\n",
    "print(measurement)"
   ]
  },
  {
   "cell_type": "code",
   "execution_count": 202,
   "id": "394e93ef-b008-4c2d-84ec-b787b2bd77d9",
   "metadata": {},
   "outputs": [],
   "source": [
    "#convert to .tsv\n",
    "measurement.to_csv('C:/Users/User/Desktop/measuremnt_synthetic_data.tsv', sep='\\t', index=False)"
   ]
  },
  {
   "cell_type": "markdown",
   "id": "56abc520-2003-44b7-9f94-c53eefa7cf22",
   "metadata": {},
   "source": [
    "medication"
   ]
  },
  {
   "cell_type": "code",
   "execution_count": null,
   "id": "33b4658c-41cb-4302-98b7-063c13b317a0",
   "metadata": {},
   "outputs": [],
   "source": []
  }
 ],
 "metadata": {
  "kernelspec": {
   "display_name": "Python 3 (ipykernel)",
   "language": "python",
   "name": "python3"
  },
  "language_info": {
   "codemirror_mode": {
    "name": "ipython",
    "version": 3
   },
   "file_extension": ".py",
   "mimetype": "text/x-python",
   "name": "python",
   "nbconvert_exporter": "python",
   "pygments_lexer": "ipython3",
   "version": "3.12.3"
  }
 },
 "nbformat": 4,
 "nbformat_minor": 5
}
